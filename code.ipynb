{
 "cells": [
  {
   "cell_type": "code",
   "execution_count": 1,
   "metadata": {},
   "outputs": [],
   "source": [
    "import numpy as np\n",
    "import math \n",
    "import random\n",
    "import time"
   ]
  },
  {
   "cell_type": "markdown",
   "metadata": {},
   "source": [
    "## P20-EX1"
   ]
  },
  {
   "cell_type": "code",
   "execution_count": 8,
   "metadata": {},
   "outputs": [
    {
     "name": "stdout",
     "output_type": "stream",
     "text": [
      "[3.143555466911028, 3.1417914776113167, 3.1416126164019564, 3.1415946524138207]\n"
     ]
    }
   ],
   "source": [
    "f = lambda x:math.sqrt(1-x**2)\n",
    "slices = [1000, 10000, 100000, 1000000]\n",
    "ans = []\n",
    "for slice in slices:\n",
    "    sum = 0\n",
    "    dx = 1.0 / slice\n",
    "    for i in range(slice):\n",
    "        sum += f(i * dx) * dx\n",
    "    ans.append(sum * 4)\n",
    "print(ans)\n"
   ]
  },
  {
   "cell_type": "markdown",
   "metadata": {},
   "source": [
    "## P23-EX3"
   ]
  },
  {
   "cell_type": "code",
   "execution_count": 9,
   "metadata": {},
   "outputs": [],
   "source": [
    "def F(a, b, c, d, n, f):\n",
    "    assert a <= b and c <= d and n > 0\n",
    "    sum = 0\n",
    "    for i in range(n):\n",
    "        x = np.random.uniform(a,b)\n",
    "        y = np.random.uniform(c,d)\n",
    "        if f(x) > y and y >= 0.:\n",
    "            sum += 1\n",
    "        elif f(x) <= y and y < 0.:\n",
    "            sum -= 1\n",
    "    return float(sum) / n * (b-a) * (d - c) \n"
   ]
  },
  {
   "cell_type": "code",
   "execution_count": 22,
   "metadata": {},
   "outputs": [
    {
     "name": "stdout",
     "output_type": "stream",
     "text": [
      "-2.246265\n"
     ]
    }
   ],
   "source": [
    "f = lambda x:x**3-2\n",
    "print (F(-1,2,-3,6,1000000,f))"
   ]
  },
  {
   "cell_type": "markdown",
   "metadata": {},
   "source": [
    "## P36-EX5 估计整数子集 $1\\sim n$的大小"
   ]
  },
  {
   "cell_type": "code",
   "execution_count": 5,
   "metadata": {},
   "outputs": [],
   "source": [
    "def getK(X):\n",
    "    S = []\n",
    "    k = 0\n",
    "    getUniformX = lambda :random.sample(X, 1)[0]\n",
    "    a = getUniformX()\n",
    "    while True:\n",
    "        k += 1\n",
    "        S.append(a)\n",
    "        a = getUniformX()\n",
    "        if a in S:\n",
    "            break\n",
    "    return k\n",
    "\n",
    "def SetCount(X, times=1000):\n",
    "    ave = 0.\n",
    "    for _ in range(times):\n",
    "        ave += getK(X)\n",
    "    ave /= times\n",
    "    return 2 * ave * ave / math.pi\n"
   ]
  },
  {
   "cell_type": "code",
   "execution_count": 10,
   "metadata": {},
   "outputs": [
    {
     "name": "stdout",
     "output_type": "stream",
     "text": [
      "[0.6366197723675814, 4.033170241062842, 8.743613519917115, 45.252054507306816, 96.17330931009076, 498.8247366218286, 952.3260931302938, 5043.345149758812, 10044.185484054864]\n"
     ]
    }
   ],
   "source": [
    "N = [1, 5, 10, 50, 100, 500, 1000, 5000, 10000]\n",
    "ans = []\n",
    "for n in N:\n",
    "    X = list(np.arange(1, n+1))\n",
    "    ans.append(SetCount(X))\n",
    "print(ans)"
   ]
  },
  {
   "cell_type": "markdown",
   "metadata": {},
   "source": [
    "## P67-EX7 搜索有序链表..."
   ]
  },
  {
   "cell_type": "code",
   "execution_count": 127,
   "metadata": {},
   "outputs": [],
   "source": [
    "class OrderedList():\n",
    "    def __init__(self, len=10000) -> None:\n",
    "        self.len = len\n",
    "        self.val = []\n",
    "        self.next = []\n",
    "        self.pre = []\n",
    "        #生成测试数据\n",
    "        for i in range(len):\n",
    "            self.val.append(i)\n",
    "            self.next.append(i+1)\n",
    "            self.pre.append(i-1)\n",
    "        self.next[-1] = 0\n",
    "        self.pre[0] = len - 1\n",
    "        self.head = 0\n",
    "        #打乱数据\n",
    "        self.shuffle()\n",
    "\n",
    "\n",
    "    def shuffle(self):\n",
    "        for i in range(self.len):\n",
    "            r = np.random.randint(self.len)\n",
    "            if self.head == i:\n",
    "                self.head = r\n",
    "            elif self.head == r:\n",
    "                self.head = i\n",
    "\n",
    "            self.val[i], self.val[r] = self.val[r], self.val[i]\n",
    "\n",
    "            self.next[self.pre[i]], self.next[self.pre[r]] = r, i\n",
    "            self.pre[i], self.pre[r] = self.pre[r], self.pre[i]\n",
    "            self.pre[self.next[i]], self.pre[self.next[r]] = r, i\n",
    "            self.next[i], self.next[r] = self.next[r], self.next[i]\n",
    "\n",
    "    #serach函数，从ptr位置开始查找，返回可能对应x的ptr和查找计数\n",
    "    def __call__(self, x, ptr=None):\n",
    "        if ptr is None:\n",
    "            ptr = self.head\n",
    "        assert ptr < self.len\n",
    "        cnt = 1\n",
    "        while x > self.val[ptr]:\n",
    "            cnt += 1\n",
    "            ptr = self.next[ptr]\n",
    "            assert ptr != self.head\n",
    "        return ptr, cnt\n",
    "\n",
    "    def getRandomPtr(self):\n",
    "        return np.random.randint(self.len)\n",
    "        \n"
   ]
  },
  {
   "cell_type": "markdown",
   "metadata": {},
   "source": [
    "A算法，确定性算法"
   ]
  },
  {
   "cell_type": "code",
   "execution_count": 37,
   "metadata": {},
   "outputs": [],
   "source": [
    "def A(x, ordered_list):\n",
    "    return ordered_list(x)"
   ]
  },
  {
   "cell_type": "markdown",
   "metadata": {},
   "source": [
    "D算法，时间O(n)的概率算法"
   ]
  },
  {
   "cell_type": "code",
   "execution_count": 10,
   "metadata": {},
   "outputs": [],
   "source": [
    "def D(x, ordered_list):\n",
    "    ptr = ordered_list.getRandomPtr()\n",
    "    y = ordered_list.val[ptr]\n",
    "    if y > x:\n",
    "        ptr = None\n",
    "    elif y < x:\n",
    "        ptr = ordered_list.next[ptr]\n",
    "    else:\n",
    "        return ptr, 0\n",
    "    return ordered_list(x, ptr)"
   ]
  },
  {
   "cell_type": "markdown",
   "metadata": {},
   "source": [
    "B算法,平均时间为O $(\\sqrt n)$ 的确定算法"
   ]
  },
  {
   "cell_type": "code",
   "execution_count": 11,
   "metadata": {},
   "outputs": [],
   "source": [
    "def B(x, ordered_list):\n",
    "    ptr  = ordered_list.head\n",
    "    _max = ordered_list.val[ptr]\n",
    "    batch = int(math.sqrt(ordered_list.len))\n",
    "\n",
    "    for i in range(batch):\n",
    "        y = ordered_list.val[i]\n",
    "        if _max < y and y <= x:\n",
    "            ptr = i\n",
    "            _max = y\n",
    "\n",
    "    return ordered_list(x, ptr)\n"
   ]
  },
  {
   "cell_type": "markdown",
   "metadata": {},
   "source": [
    "C算法，Sherwood版的B算法"
   ]
  },
  {
   "cell_type": "code",
   "execution_count": 118,
   "metadata": {},
   "outputs": [],
   "source": [
    "def C(x, ordered_list):\n",
    "    ptr  = ordered_list.head\n",
    "    _max = ordered_list.val[ptr]\n",
    "    batch = int(math.sqrt(ordered_list.len))\n",
    "    choices = np.random.choice(ordered_list.len, size=batch, replace=False)\n",
    "\n",
    "    for choice in choices:\n",
    "        y = ordered_list.val[choice]\n",
    "        if _max < y and y <= x:\n",
    "            ptr = choice\n",
    "            _max = y\n",
    "\n",
    "    return ordered_list(x, ptr)"
   ]
  },
  {
   "cell_type": "markdown",
   "metadata": {},
   "source": [
    "性能测试"
   ]
  },
  {
   "cell_type": "code",
   "execution_count": 130,
   "metadata": {},
   "outputs": [
    {
     "name": "stdout",
     "output_type": "stream",
     "text": [
      "{'A': 10000, 'B': 483, 'C': 892, 'D': 9785}\n",
      "{'A': 4950.6982, 'B': 91.284, 'C': 98.3144, 'D': 3286.0576}\n"
     ]
    }
   ],
   "source": [
    "len = 10000\n",
    "test = OrderedList(len)\n",
    "test_times = 5000\n",
    "\n",
    "worst = {\"A\":0, \"B\":0, \"C\":0, \"D\":0}\n",
    "average = {\"A\":0., \"B\":0., \"C\":0., \"D\":0.}\n",
    "alg_s = {\"A\":A, \"B\":B, \"C\":C, \"D\":D}\n",
    "\n",
    "for name, alg in alg_s.items():\n",
    "    for i in range(test_times):\n",
    "        x = np.random.randint(len)\n",
    "        ptr, cnt = alg(x, test)\n",
    "        assert test.val[ptr] == x\n",
    "        average[name] += cnt\n",
    "        if cnt > worst[name]:\n",
    "            worst[name] = cnt\n",
    "    average[name] /= test_times\n",
    "\n",
    "\n",
    "print(worst)\n",
    "print(average)"
   ]
  },
  {
   "cell_type": "markdown",
   "metadata": {},
   "source": [
    "## P83-EX9"
   ]
  },
  {
   "cell_type": "code",
   "execution_count": 12,
   "metadata": {},
   "outputs": [],
   "source": [
    "'''\n",
    "target_k:目标构建的k皇后\n",
    "k:当前已放置的安全的前k行皇后\n",
    "col:存在皇后的列\n",
    "diag45:当前45度对角线冲突表\n",
    "diag135:当前135度对角线冲突表\n",
    "\n",
    "cnt:访问节点计数\n",
    "'''\n",
    "def backtrace(target_k, col, diag45, diag135, row=0):\n",
    "    if row == target_k:\n",
    "        return True, 0\n",
    "        \n",
    "    cnt = 0\n",
    "    for _col in range(target_k):\n",
    "        if _col not in col and _col - row not in diag45 \\\n",
    "            and _col + row not in diag135:\n",
    "            col.append(_col)\n",
    "            diag45.append(_col - row)\n",
    "            diag135.append(_col + row)\n",
    "            #访问该节点，对应计数增1 \n",
    "            cnt += 1\n",
    "            isSuccess, _cnt = backtrace(target_k, col, diag45\n",
    "                                        , diag135, row+1)\n",
    "            #增加对应子节点的计数\n",
    "            cnt += _cnt\n",
    "            if isSuccess:\n",
    "                return True, cnt\n",
    "            col.pop()\n",
    "            diag45.pop()\n",
    "            diag135.pop()\n",
    "\n",
    "    return False, cnt\n"
   ]
  },
  {
   "cell_type": "code",
   "execution_count": 231,
   "metadata": {},
   "outputs": [],
   "source": [
    "\"\"\"\n",
    "贪心的LV算法，前stepVegas皇后随机放置\n",
    "\"\"\"\n",
    "def QueensLV(target_k, stepVegas):\n",
    "    col = []\n",
    "    diag45 =[]\n",
    "    diag135 = []\n",
    "    row = 0\n",
    "    k = 0\n",
    "    nb = 0\n",
    "\n",
    "    while True:\n",
    "        nb = 0\n",
    "        for _col in range(target_k):\n",
    "            if _col not in col and _col - row not in diag45 \\\n",
    "                and _col + row not in diag135:\n",
    "                nb += 1\n",
    "                if np.random.randint(nb) == 0:\n",
    "                    col_candidate = _col\n",
    "        if nb > 0:\n",
    "            col.append(col_candidate)\n",
    "            diag45.append(col_candidate - k)\n",
    "            diag135.append(col_candidate + k)\n",
    "            k += 1\n",
    "        if nb == 0 or k >= stepVegas:\n",
    "            break\n",
    "    \n",
    "    if nb > 0:\n",
    "        isSuccess, cnt = backtrace(target_k, col, diag45, diag135, k)\n",
    "        return isSuccess, cnt + stepVegas\n",
    "    else:\n",
    "        return False, stepVegas\n",
    "\n"
   ]
  },
  {
   "cell_type": "code",
   "execution_count": 260,
   "metadata": {},
   "outputs": [],
   "source": [
    "times = 1000\n",
    "epoch = 100\n",
    "ans = {}\n",
    "for n in range(12, 21):\n",
    "    best_s = 0.\n",
    "    best_e = 0.\n",
    "    best_t = math.inf\n",
    "    bestStepVeags = 0\n",
    "    bestSuccessRate = 0.\n",
    "    for stepVegas in range(1, n + 1):\n",
    "        successRate = 0.\n",
    "        s = 0.\n",
    "        e = 0.\n",
    "\n",
    "        for _ in range(times):\n",
    "            isSuccess, cnt = QueensLV(n, stepVegas)\n",
    "            if isSuccess:\n",
    "                successRate += 1\n",
    "                s += cnt\n",
    "            else:\n",
    "                e += cnt\n",
    "        \n",
    "        successRate += 1e-6\n",
    "        s /= successRate\n",
    "        e /= times - successRate + 1e-6\n",
    "\n",
    "        successRate /= times\n",
    "        \n",
    "        t = s + (1 - successRate) * e / successRate\n",
    "        if t < best_t:\n",
    "            best_t = t\n",
    "            best_e = e\n",
    "            best_s = s\n",
    "            bestSuccessRate = successRate\n",
    "            bestStepVeags = stepVegas\n",
    "    ans[n] = (bestStepVeags, bestSuccessRate, best_s, best_e, best_t)"
   ]
  },
  {
   "cell_type": "code",
   "execution_count": 261,
   "metadata": {},
   "outputs": [
    {
     "name": "stdout",
     "output_type": "stream",
     "text": [
      "{12: (6, 0.535000001, 22.41495322913093, 25.335483870967742, 44.43551388827851), 13: (7, 0.495000001, 22.341414096279973, 24.59009900990099, 47.42828268279115), 14: (8, 0.461000001, 23.713665892161245, 23.122448979591837, 50.74837294171189), 15: (9, 0.425000001, 24.87294111794602, 22.768695652173914, 55.677646874243905), 16: (10, 0.371000001, 25.4312667778133, 21.620031796502385, 62.086253143648825), 17: (10, 0.563000001, 36.71047950850714, 39.09153318077803, 67.0532857794941), 18: (11, 0.485000001, 38.79999992, 35.0873786407767, 76.0577317295977), 19: (12, 0.405000001, 38.4617283000945, 30.707563025210085, 83.57530835979537), 20: (13, 0.358000001, 39.262569722730255, 25.774143302180686, 85.48323991268887)}\n"
     ]
    }
   ],
   "source": [
    "print(ans)"
   ]
  }
 ],
 "metadata": {
  "interpreter": {
   "hash": "49cfc28c88263d83140379cba4bd956be1a87ad72f4955332c2e64d6620f2e96"
  },
  "kernelspec": {
   "display_name": "Python 3.6.8 64-bit",
   "language": "python",
   "name": "python3"
  },
  "language_info": {
   "codemirror_mode": {
    "name": "ipython",
    "version": 3
   },
   "file_extension": ".py",
   "mimetype": "text/x-python",
   "name": "python",
   "nbconvert_exporter": "python",
   "pygments_lexer": "ipython3",
   "version": "3.6.8"
  },
  "orig_nbformat": 4
 },
 "nbformat": 4,
 "nbformat_minor": 2
}
