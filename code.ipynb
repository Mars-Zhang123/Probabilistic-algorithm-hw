{
 "cells": [
  {
   "cell_type": "code",
   "execution_count": 4,
   "metadata": {},
   "outputs": [],
   "source": [
    "import numpy as np\n",
    "import math \n",
    "import random\n",
    "import time"
   ]
  },
  {
   "cell_type": "markdown",
   "metadata": {},
   "source": [
    "## P20-EX1"
   ]
  },
  {
   "cell_type": "code",
   "execution_count": 8,
   "metadata": {},
   "outputs": [
    {
     "name": "stdout",
     "output_type": "stream",
     "text": [
      "[3.143555466911028, 3.1417914776113167, 3.1416126164019564, 3.1415946524138207]\n"
     ]
    }
   ],
   "source": [
    "f = lambda x:math.sqrt(1-x**2)\n",
    "slices = [1000, 10000, 100000, 1000000]\n",
    "ans = []\n",
    "for slice in slices:\n",
    "    sum = 0\n",
    "    dx = 1.0 / slice\n",
    "    for i in range(slice):\n",
    "        sum += f(i * dx) * dx\n",
    "    ans.append(sum * 4)\n",
    "print(ans)\n"
   ]
  },
  {
   "cell_type": "markdown",
   "metadata": {},
   "source": [
    "## P23-EX3"
   ]
  },
  {
   "cell_type": "code",
   "execution_count": 9,
   "metadata": {},
   "outputs": [],
   "source": [
    "def F(a, b, c, d, n, f):\n",
    "    assert a <= b and c <= d and n > 0\n",
    "    sum = 0\n",
    "    for i in range(n):\n",
    "        x = np.random.uniform(a,b)\n",
    "        y = np.random.uniform(c,d)\n",
    "        if f(x) > y and y >= 0.:\n",
    "            sum += 1\n",
    "        elif f(x) <= y and y < 0.:\n",
    "            sum -= 1\n",
    "    return float(sum) / n * (b-a) * (d - c) \n"
   ]
  },
  {
   "cell_type": "code",
   "execution_count": 22,
   "metadata": {},
   "outputs": [
    {
     "name": "stdout",
     "output_type": "stream",
     "text": [
      "-2.246265\n"
     ]
    }
   ],
   "source": [
    "f = lambda x:x**3-2\n",
    "print (F(-1,2,-3,6,1000000,f))"
   ]
  },
  {
   "cell_type": "markdown",
   "metadata": {},
   "source": [
    "## P36-EX5 估计整数子集 $1\\sim n$的大小"
   ]
  },
  {
   "cell_type": "code",
   "execution_count": 39,
   "metadata": {},
   "outputs": [],
   "source": [
    "def SetCount(X):\n",
    "    S = []\n",
    "    k = 0\n",
    "    getUniformX = lambda :random.sample(X, 1)[0]\n",
    "    a = getUniformX()\n",
    "    while True:\n",
    "        k += 1\n",
    "        S.append(a)\n",
    "        a = getUniformX()\n",
    "        if a in S:\n",
    "            break\n",
    "    return 2*k*k/math.pi\n"
   ]
  },
  {
   "cell_type": "code",
   "execution_count": 47,
   "metadata": {},
   "outputs": [
    {
     "name": "stdout",
     "output_type": "stream",
     "text": [
      "[10.336158624160028, 122.54421322258065, 1273.099488385239, 13084.453820908178, 125759.19145613945, 1277373.8203819913, 13665333.271945456]\n"
     ]
    }
   ],
   "source": [
    "N = [10, 100, 1000, 10000, 100000, 1000000, 10000000]\n",
    "ans = []\n",
    "for n in N:\n",
    "    X = list(np.arange(1, n+1))\n",
    "    sum = 0.\n",
    "    for i in range(1000):\n",
    "        sum += SetCount(X)\n",
    "    ans.append(sum / 1000)\n",
    "print(ans)"
   ]
  },
  {
   "cell_type": "markdown",
   "metadata": {},
   "source": [
    "## P67-EX7 搜索有序链表..."
   ]
  },
  {
   "cell_type": "code",
   "execution_count": 127,
   "metadata": {},
   "outputs": [],
   "source": [
    "class OrderedList():\n",
    "    def __init__(self, len=10000) -> None:\n",
    "        self.len = len\n",
    "        self.val = []\n",
    "        self.next = []\n",
    "        self.pre = []\n",
    "        #生成测试数据\n",
    "        for i in range(len):\n",
    "            self.val.append(i)\n",
    "            self.next.append(i+1)\n",
    "            self.pre.append(i-1)\n",
    "        self.next[-1] = 0\n",
    "        self.pre[0] = len - 1\n",
    "        self.head = 0\n",
    "        #打乱数据\n",
    "        self.shuffle()\n",
    "\n",
    "\n",
    "    def shuffle(self):\n",
    "        for i in range(self.len):\n",
    "            r = np.random.randint(self.len)\n",
    "            if self.head == i:\n",
    "                self.head = r\n",
    "            elif self.head == r:\n",
    "                self.head = i\n",
    "\n",
    "            self.val[i], self.val[r] = self.val[r], self.val[i]\n",
    "\n",
    "            self.next[self.pre[i]], self.next[self.pre[r]] = r, i\n",
    "            self.pre[i], self.pre[r] = self.pre[r], self.pre[i]\n",
    "            self.pre[self.next[i]], self.pre[self.next[r]] = r, i\n",
    "            self.next[i], self.next[r] = self.next[r], self.next[i]\n",
    "\n",
    "    #serach函数，从ptr位置开始查找，返回可能对应x的ptr和查找计数\n",
    "    def __call__(self, x, ptr=None):\n",
    "        if ptr is None:\n",
    "            ptr = self.head\n",
    "        assert ptr < self.len\n",
    "        cnt = 1\n",
    "        while x > self.val[ptr]:\n",
    "            cnt += 1\n",
    "            ptr = self.next[ptr]\n",
    "            assert ptr != self.head\n",
    "        return ptr, cnt\n",
    "\n",
    "    def getRandomPtr(self):\n",
    "        return np.random.randint(self.len)\n",
    "        \n"
   ]
  },
  {
   "cell_type": "markdown",
   "metadata": {},
   "source": [
    "A算法，确定性算法"
   ]
  },
  {
   "cell_type": "code",
   "execution_count": 37,
   "metadata": {},
   "outputs": [],
   "source": [
    "def A(x, ordered_list):\n",
    "    return ordered_list(x)"
   ]
  },
  {
   "cell_type": "markdown",
   "metadata": {},
   "source": [
    "D算法，时间O(n)的概率算法"
   ]
  },
  {
   "cell_type": "code",
   "execution_count": 10,
   "metadata": {},
   "outputs": [],
   "source": [
    "def D(x, ordered_list):\n",
    "    ptr = ordered_list.getRandomPtr()\n",
    "    y = ordered_list.val[ptr]\n",
    "    if y > x:\n",
    "        ptr = None\n",
    "    elif y < x:\n",
    "        ptr = ordered_list.next[ptr]\n",
    "    else:\n",
    "        return ptr, 0\n",
    "    return ordered_list(x, ptr)"
   ]
  },
  {
   "cell_type": "markdown",
   "metadata": {},
   "source": [
    "B算法,平均时间为O $(\\sqrt n)$ 的确定算法"
   ]
  },
  {
   "cell_type": "code",
   "execution_count": 11,
   "metadata": {},
   "outputs": [],
   "source": [
    "def B(x, ordered_list):\n",
    "    ptr  = ordered_list.head\n",
    "    _max = ordered_list.val[ptr]\n",
    "    batch = int(math.sqrt(ordered_list.len))\n",
    "\n",
    "    for i in range(batch):\n",
    "        y = ordered_list.val[i]\n",
    "        if _max < y and y <= x:\n",
    "            ptr = i\n",
    "            _max = y\n",
    "\n",
    "    return ordered_list(x, ptr)\n"
   ]
  },
  {
   "cell_type": "markdown",
   "metadata": {},
   "source": [
    "C算法，Sherwood版的B算法"
   ]
  },
  {
   "cell_type": "code",
   "execution_count": 118,
   "metadata": {},
   "outputs": [],
   "source": [
    "def C(x, ordered_list):\n",
    "    ptr  = ordered_list.head\n",
    "    _max = ordered_list.val[ptr]\n",
    "    batch = int(math.sqrt(ordered_list.len))\n",
    "    choices = np.random.choice(ordered_list.len, size=batch, replace=False)\n",
    "\n",
    "    for choice in choices:\n",
    "        y = ordered_list.val[choice]\n",
    "        if _max < y and y <= x:\n",
    "            ptr = choice\n",
    "            _max = y\n",
    "\n",
    "    return ordered_list(x, ptr)"
   ]
  },
  {
   "cell_type": "markdown",
   "metadata": {},
   "source": [
    "性能测试"
   ]
  },
  {
   "cell_type": "code",
   "execution_count": 130,
   "metadata": {},
   "outputs": [
    {
     "name": "stdout",
     "output_type": "stream",
     "text": [
      "{'A': 10000, 'B': 483, 'C': 892, 'D': 9785}\n",
      "{'A': 4950.6982, 'B': 91.284, 'C': 98.3144, 'D': 3286.0576}\n"
     ]
    }
   ],
   "source": [
    "len = 10000\n",
    "test = OrderedList(len)\n",
    "test_times = 5000\n",
    "\n",
    "worst = {\"A\":0, \"B\":0, \"C\":0, \"D\":0}\n",
    "average = {\"A\":0., \"B\":0., \"C\":0., \"D\":0.}\n",
    "alg_s = {\"A\":A, \"B\":B, \"C\":C, \"D\":D}\n",
    "\n",
    "for name, alg in alg_s.items():\n",
    "    for i in range(test_times):\n",
    "        x = np.random.randint(len)\n",
    "        ptr, cnt = alg(x, test)\n",
    "        assert test.val[ptr] == x\n",
    "        average[name] += cnt\n",
    "        if cnt > worst[name]:\n",
    "            worst[name] = cnt\n",
    "    average[name] /= test_times\n",
    "\n",
    "\n",
    "print(worst)\n",
    "print(average)"
   ]
  }
 ],
 "metadata": {
  "interpreter": {
   "hash": "49cfc28c88263d83140379cba4bd956be1a87ad72f4955332c2e64d6620f2e96"
  },
  "kernelspec": {
   "display_name": "Python 3.6.8 64-bit",
   "language": "python",
   "name": "python3"
  },
  "language_info": {
   "codemirror_mode": {
    "name": "ipython",
    "version": 3
   },
   "file_extension": ".py",
   "mimetype": "text/x-python",
   "name": "python",
   "nbconvert_exporter": "python",
   "pygments_lexer": "ipython3",
   "version": "3.6.8"
  },
  "orig_nbformat": 4
 },
 "nbformat": 4,
 "nbformat_minor": 2
}
